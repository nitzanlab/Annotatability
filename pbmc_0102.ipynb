{
 "cells": [
  {
   "cell_type": "markdown",
   "metadata": {
    "id": "3sp0aXHlX8IJ"
   },
   "source": [
    "## Requirements and Imports\n"
   ]
  },
  {
   "cell_type": "code",
   "execution_count": 1,
   "metadata": {
    "id": "DAO1-98s_DlG"
   },
   "outputs": [
    {
     "data": {
      "text/plain": [
       "device(type='cpu')"
      ]
     },
     "execution_count": 1,
     "metadata": {},
     "output_type": "execute_result"
    }
   ],
   "source": [
    "import copy\n",
    "import os\n",
    "from pathlib import Path\n",
    "from itertools import combinations\n",
    "\n",
    "import numpy as np\n",
    "import pandas as pd\n",
    "import matplotlib.pyplot as plt\n",
    "import seaborn as sns\n",
    "import scanpy as sc\n",
    "from sklearn.preprocessing import normalize\n",
    "from sklearn.metrics import roc_auc_score , pairwise_distances\n",
    "import torch\n",
    "import torch.optim as optim\n",
    "epoch_num=50\n",
    "device = torch.device('cuda:0' if torch.cuda.is_available() else 'cpu')\n",
    "import scipy.sparse as sp\n",
    "from numba import jit\n",
    "import models\n",
    "import metrics\n",
    "device"
   ]
  },
  {
   "cell_type": "code",
   "execution_count": 2,
   "metadata": {},
   "outputs": [],
   "source": [
    "SMALL_SIZE = 14\n",
    "MEDIUM_SIZE = 16\n",
    "BIGGER_SIZE = 18\n",
    "plt.rcParams[\"font.family\"] = \"Verdana\"\n",
    "plt.rc('font', size=SMALL_SIZE)          # controls default text sizes\n",
    "plt.rc('axes', titlesize=SMALL_SIZE)     # fontsize of the axes title\n",
    "plt.rc('axes', labelsize=MEDIUM_SIZE)    # fontsize of the x and y labels\n",
    "plt.rc('xtick', labelsize=SMALL_SIZE)    # fontsize of the tick labels\n",
    "plt.rc('ytick', labelsize=SMALL_SIZE)    # fontsize of the tick labels\n",
    "plt.rc('legend', fontsize=SMALL_SIZE)    # legend fontsize\n",
    "plt.rc('figure', titlesize=BIGGER_SIZE)  # fontsize of the figure title\n"
   ]
  },
  {
   "cell_type": "code",
   "execution_count": null,
   "metadata": {},
   "outputs": [
    {
     "name": "stderr",
     "output_type": "stream",
     "text": [
      "Global seed set to 0\n"
     ]
    },
    {
     "name": "stdout",
     "output_type": "stream",
     "text": [
      "\u001b[34mINFO    \u001b[0m File data/gene_info_pbmc.csv already downloaded                                                           \n",
      "\u001b[34mINFO    \u001b[0m File data/pbmc_metadata.pickle already downloaded                                                         \n",
      "\u001b[34mINFO    \u001b[0m File data/pbmc8k/filtered_gene_bc_matrices.tar.gz already downloaded                                      \n",
      "\u001b[34mINFO    \u001b[0m Extracting tar file                                                                                       \n"
     ]
    }
   ],
   "source": [
    "import scvi\n",
    "adata = scvi.data.pbmc_dataset()\n",
    "adata.var['alt_names']=adata.var_names\n",
    "sc.pp.pca(adata)\n",
    "sc.pp.neighbors(adata)\n",
    "sc.tl.umap(adata)\n",
    "adata"
   ]
  },
  {
   "cell_type": "code",
   "execution_count": null,
   "metadata": {},
   "outputs": [],
   "source": [
    "adata.obs['str_labels'].value_counts()"
   ]
  },
  {
   "cell_type": "code",
   "execution_count": null,
   "metadata": {},
   "outputs": [],
   "source": [
    "adata= adata[adata.obs['str_labels'].isin(['B cells', 'CD4 T cells', 'CD8 T cells', 'CD14+ Monocytes', 'Dendritic Cells' ,'FCGR3A+ Monocytes', 'NK cells'])]"
   ]
  },
  {
   "cell_type": "code",
   "execution_count": null,
   "metadata": {},
   "outputs": [],
   "source": [
    "sc.pp.normalize_per_cell(adata, counts_per_cell_after=1e4)\n",
    "sc.pp.log1p(adata)"
   ]
  },
  {
   "cell_type": "code",
   "execution_count": null,
   "metadata": {
    "colab": {
     "base_uri": "https://localhost:8080/",
     "height": 278
    },
    "id": "5qZRkZOcZPJc",
    "outputId": "ba6b9d91-db6c-48f7-c0e0-4b1738cc997b"
   },
   "outputs": [],
   "source": [
    "adata_scaled = adata.copy()\n",
    "sc.pp.scale(adata_scaled)"
   ]
  },
  {
   "cell_type": "code",
   "execution_count": null,
   "metadata": {
    "colab": {
     "base_uri": "https://localhost:8080/",
     "height": 278
    },
    "id": "02PsivFkKw-X",
    "outputId": "c1ca1c21-90da-4d34-8323-5f007bb82d57"
   },
   "outputs": [],
   "source": [
    "sc.pp.pca(adata)\n",
    "sc.pp.neighbors(adata)\n",
    "sc.tl.umap(adata)\n",
    "sc.pl.umap(adata, color='str_labels')"
   ]
  },
  {
   "cell_type": "code",
   "execution_count": null,
   "metadata": {
    "colab": {
     "base_uri": "https://localhost:8080/",
     "height": 455
    },
    "id": "OXT5qUyg75Lb",
    "outputId": "55411409-ada9-4b92-f4aa-8ac0a896cee9"
   },
   "outputs": [],
   "source": [
    "epoch_num=100\n",
    "prob_list = models.follow_training_dyn_neural_net(adata, label_key='str_labels',iterNum=epoch_num, device=device)"
   ]
  },
  {
   "cell_type": "code",
   "execution_count": null,
   "metadata": {},
   "outputs": [],
   "source": [
    "all_conf , all_var = models.probability_list_to_confidence_and_var(prob_list, n_obs= adata.n_obs, epoch_num=epoch_num)"
   ]
  },
  {
   "cell_type": "code",
   "execution_count": null,
   "metadata": {
    "colab": {
     "base_uri": "https://localhost:8080/",
     "height": 313
    },
    "id": "01jUEvFGcFkO",
    "outputId": "a97afe30-f81e-4a20-835f-61f2e8e94628"
   },
   "outputs": [],
   "source": [
    "cutoff_conf , cutoff_var = models.find_cutoff_paramter(adata,'str_labels',device,probability=0.05,percentile=95,epoch_num=epoch_num)"
   ]
  },
  {
   "cell_type": "code",
   "execution_count": null,
   "metadata": {},
   "outputs": [],
   "source": [
    "adata.obs[\"var\"] = all_var.detach().numpy()\n",
    "adata.obs[\"conf\"] = all_conf.detach().numpy()"
   ]
  },
  {
   "cell_type": "code",
   "execution_count": null,
   "metadata": {},
   "outputs": [],
   "source": [
    "adata.obs['conf_binaries'] = pd.Categorical((adata.obs['conf'] > cutoff_conf) | (adata.obs['var'] > cutoff_var))"
   ]
  },
  {
   "cell_type": "code",
   "execution_count": null,
   "metadata": {},
   "outputs": [],
   "source": [
    "adata.obs['CellType']=adata.obs['str_labels']"
   ]
  },
  {
   "cell_type": "code",
   "execution_count": null,
   "metadata": {},
   "outputs": [],
   "source": [
    "\n",
    "adata.obs['CellType']=adata.obs['str_labels']\n",
    "sns.jointplot(data=adata.obs, x=\"var\", y=\"conf\",height=10,  s=25, ratio=2)\n",
    "plt.ylabel('Confidence')\n",
    "plt.xlabel('Variability')\n",
    "plt.show()"
   ]
  },
  {
   "cell_type": "code",
   "execution_count": null,
   "metadata": {},
   "outputs": [],
   "source": [
    "cutoff_conf , cutoff_var"
   ]
  },
  {
   "cell_type": "code",
   "execution_count": null,
   "metadata": {},
   "outputs": [],
   "source": [
    "adata.obs['conf_binaries'].value_counts()"
   ]
  },
  {
   "cell_type": "code",
   "execution_count": null,
   "metadata": {},
   "outputs": [],
   "source": [
    "sc.pp.pca(adata)#, color=['str_labels'])\n",
    "sc.pp.neighbors(adata)#, color=['conf_binaries'])\n",
    "sc.tl.umap(adata)#, color=['conf'])"
   ]
  },
  {
   "cell_type": "code",
   "execution_count": null,
   "metadata": {},
   "outputs": [],
   "source": [
    "sc.pl.umap(adata, color=['str_labels'], title='Cell type')\n",
    "sc.pl.umap(adata, color=['conf_binaries'])\n",
    "sc.pl.umap(adata, color=['conf'], title='Confidence')"
   ]
  },
  {
   "cell_type": "code",
   "execution_count": null,
   "metadata": {},
   "outputs": [],
   "source": [
    "annotation_list =[]\n",
    "for i in range(adata.n_obs):\n",
    "    if (adata.obs['conf'][i] > cutoff_conf) | (adata.obs['var'][i] > cutoff_var):\n",
    "        if (adata.obs['conf'][i] > 0.95) & (adata.obs['var'][i] < 0.15):\n",
    "            annotation_list.append('Correctly annotated')\n",
    "        else:\n",
    "            annotation_list.append('Ambiguously annotated.')\n",
    "    else:\n",
    "            annotation_list.append('Erroneously annotated')\n",
    "\n",
    "adata.obs['Annotation']=annotation_list\n"
   ]
  },
  {
   "cell_type": "code",
   "execution_count": null,
   "metadata": {},
   "outputs": [],
   "source": [
    "adata.obs['conf_non_ambiguous'] = pd.Categorical((adata.obs['conf'] > 0.95) | (adata.obs['var'] < 0.15))\n",
    "adata.obs['Confidence']= adata.obs['conf']\n",
    "adata.obs['Variability']= adata.obs['var']\n",
    "\n",
    "fig = sns.jointplot(data=adata.obs, x=\"Variability\", y=\"Confidence\",hue='Annotation',height=10,  s=25, ratio=2)\n",
    "plt.show(fig)"
   ]
  },
  {
   "cell_type": "code",
   "execution_count": null,
   "metadata": {},
   "outputs": [],
   "source": [
    "gene_mapping = {\n",
    "    'ENSG00000168685': 'IL7R',\n",
    "    'ENSG00000126353': 'CCR7',\n",
    "    'ENSG00000196154': 'S100A4',\n",
    "    'ENSG00000105369': 'CD79A',\n",
    "    'ENSG00000153563': 'CD8A',\n",
    "    'ENSG00000170458': 'CD14',\n",
    "    'ENSG00000131981': 'LGALS3',\n",
    "    'ENSG00000105374': 'NKG7',\n",
    "    'ENSG00000111796': 'KLRB1',\n",
    "    'ENSG00000179639': 'FCER1A',\n",
    "    'ENSG00000101439': 'CST3',\n",
    "    'ENSG00000163736': 'PPBP',\n",
    "    'ENSG00000116824': 'CD2',\n",
    "    'ENSG00000188404': 'SELL',\n",
    "    'ENSG00000111537': 'IFNG',\n",
    "    'ENSG00000168329': 'CX3CR1',\n",
    "    'ENSG00000160255': 'ITGB2',\n",
    "    'ENSG00000125498': 'KIR2DL1',\n",
    "    'ENSG00000243772': 'KIR2DL3',\n",
    "    'ENSG00000139187': 'KLRG1',\n",
    "    'ENSG00000180644': 'PRF1',\n",
    "    'ENSG00000145649': 'GZMA',\n",
    "    'ENSG00000100453': 'GZMB',\n",
    "    'ENSG00000163221': 'S100A12',\n",
    "    'ENSG00000132965': 'ALOX5AP',\n",
    "    'ENSG00000178623': 'GPR35',\n",
    "    'ENSG00000019169': 'MARCO',\n",
    "    'ENSG00000105371': 'ICAM4',\n",
    "    'ENSG00000007312': 'CD79b',\n",
    "}\n",
    "\n"
   ]
  },
  {
   "cell_type": "code",
   "execution_count": null,
   "metadata": {},
   "outputs": [],
   "source": [
    "adata.var['alt_names'].loc['ENSG00000168685'] = 'IL7R'\n",
    "adata.var['alt_names'].loc['ENSG00000126353']='CCR7'\n",
    "adata.var['alt_names'].loc['ENSG00000196154']='S100A4'\n",
    "adata.var['alt_names'].loc['ENSG00000105369']='CD79A'\n",
    "adata.var['alt_names'].loc['ENSG00000153563']='CD8A'\n",
    "adata.var['alt_names'].loc['ENSG00000170458']='CD14'\n",
    "adata.var['alt_names'].loc['ENSG00000131981']='LGALS3'\n",
    "adata.var['alt_names'].loc['ENSG00000105374']='NKG7'\n",
    "adata.var['alt_names'].loc['ENSG00000111796']='KLRB1'\n",
    "adata.var['alt_names'].loc['ENSG00000179639']='FCER1A'\n",
    "adata.var['alt_names'].loc['ENSG00000101439']='CST3'\n",
    "adata.var['alt_names'].loc['ENSG00000163736']='PPBP'\n",
    "adata.var['alt_names'].loc['ENSG00000116824'] = 'CD2'\n",
    "adata.var['alt_names'].loc['ENSG00000188404']='SELL'\n",
    "adata.var['alt_names'].loc['ENSG00000111537']='IFNG'\n",
    "adata.var['alt_names'].loc['ENSG00000168329']='CX3CR1'\n",
    "adata.var['alt_names'].loc['ENSG00000160255']='ITGB2'\n",
    "adata.var['alt_names'].loc['ENSG00000125498']='KIR2DL1'\n",
    "adata.var['alt_names'].loc['ENSG00000243772']='KIR2DL3'\n",
    "adata.var['alt_names'].loc['ENSG00000139187']='KLRG1'\n",
    "adata.var['alt_names'].loc['ENSG00000180644']='PRF1'\n",
    "adata.var['alt_names'].loc['ENSG00000145649']='GZMA'\n",
    "adata.var['alt_names'].loc['ENSG00000100453']='GZMB'\n",
    "adata.var['alt_names'].loc['ENSG00000163221'] = 'S100A12'\n",
    "adata.var['alt_names'].loc['ENSG00000132965']='ALOX5AP'\n",
    "adata.var['alt_names'].loc['ENSG00000178623']='GPR35'\n",
    "adata.var['alt_names'].loc['ENSG00000019169']='MARCO'\n",
    "adata.var['alt_names'].loc['ENSG00000105371']='ICAM4'\n",
    "adata.var['alt_names'].loc['ENSG00000007312']='CD79b'\n",
    "\n",
    "marker_genes_dict= {\n",
    "    'CD4 T cells':['IL7R','CCR7'],\n",
    "    'CD8 T cells':['CD8A','NKG7','KLRB1'],\n",
    "    'B cells':['CD79A'],\n",
    "    'CD14+ Monocytes':['CD14','LGALS3'],\n",
    "    'NK Cells':['NKG7','KLRB1'],\n",
    "    'Dendritic Cells':['FCER1A','CST3'],\n",
    "    'Megakaryocytes':['PPBP']}\n",
    "    \n",
    "\n",
    "ax = sc.pl.dotplot(adata, marker_genes_dict, groupby='str_labels', gene_symbols='alt_names', cmap='BuGn')\n"
   ]
  },
  {
   "cell_type": "code",
   "execution_count": null,
   "metadata": {},
   "outputs": [],
   "source": [
    "corr_classified_list =[]\n",
    "for i in range(adata.n_obs):\n",
    "    if adata.obs['conf_binaries'][i]==True:\n",
    "        corr_classified_list.append('Correct annotation')\n",
    "    else: \n",
    "        corr_classified_list.append('Erroneous annotation')\n",
    "adata.obs['annotation']=corr_classified_list"
   ]
  },
  {
   "cell_type": "code",
   "execution_count": null,
   "metadata": {
    "scrolled": false
   },
   "outputs": [],
   "source": [
    "for celltype in set(adata.obs['str_labels']):\n",
    "    adata_tmp= adata[adata.obs['str_labels'].isin([celltype])]\n",
    "    print(celltype)\n",
    "    \n",
    "    ax = sc.pl.dotplot(adata_tmp, marker_genes_dict, groupby='annotation',cmap='BuGn', gene_symbols='alt_names')\n"
   ]
  },
  {
   "cell_type": "code",
   "execution_count": null,
   "metadata": {},
   "outputs": [],
   "source": [
    "adata_scaled.obs['conf']= adata.obs['conf']\n",
    "adata_scaled.obs['var']= adata.obs['var']\n",
    "adata_scaled.obs['conf_binaries']= adata.obs['conf_binaries']"
   ]
  },
  {
   "cell_type": "code",
   "execution_count": null,
   "metadata": {},
   "outputs": [],
   "source": [
    "cd56_genes_dict= {\n",
    "    'CD56 bright':['IL7R','CCR7','CD2','SELL','IFNG'], \n",
    "    'CD56 dim':['CX3CR1','ITGB2','KIR2DL1','KIR2DL3','KLRG1','PRF1','GZMA','GZMB'],     \n",
    "\n",
    "                   }\n"
   ]
  },
  {
   "cell_type": "code",
   "execution_count": null,
   "metadata": {},
   "outputs": [],
   "source": [
    "adata_nk_cd8= adata[adata.obs['conf_binaries'].isin([True])]\n",
    "adata_nk_cd8= adata_nk_cd8[adata_nk_cd8.obs['str_labels'].isin(['NK cells','CD8 T cells','CD4 T cells'])]\n",
    "\n",
    "\n",
    "adata_nk_cd8.obs['conf_non_ambiguous'] = pd.Categorical((adata_nk_cd8.obs['conf'] > 0.95) | (adata_nk_cd8.obs['var'] < 0.15))\n",
    "\n",
    "corr_classified_list =[]\n",
    "for i in range(adata_nk_cd8.n_obs):\n",
    "    if adata_nk_cd8.obs['str_labels'][i]=='CD8 T cells':\n",
    "        corr_classified_list.append('CD8 T cells')\n",
    "    elif adata_nk_cd8.obs['str_labels'][i]=='CD4 T cells':\n",
    "        corr_classified_list.append('CD4 T cells')\n",
    "    else:\n",
    "        if adata_nk_cd8.obs['conf_non_ambiguous'][i]==True:\n",
    "            corr_classified_list.append('NK cells- Correct annotation')\n",
    "        else: \n",
    "            corr_classified_list.append('NK cells- Ambiguous annotation')\n",
    "adata_nk_cd8.obs['amb_annotation']=corr_classified_list\n",
    "\n",
    "ax = sc.pl.matrixplot(adata_nk_cd8, cd56_genes_dict, groupby='amb_annotation',cmap='BuGn', gene_symbols='alt_names')\n",
    "\n"
   ]
  },
  {
   "cell_type": "code",
   "execution_count": null,
   "metadata": {},
   "outputs": [],
   "source": []
  },
  {
   "cell_type": "code",
   "execution_count": null,
   "metadata": {},
   "outputs": [],
   "source": [
    "adata_nk= adata[adata.obs['conf_binaries'].isin([True])]\n",
    "adata_nk= adata_nk[adata_nk.obs['str_labels'].isin(['NK cells'])]\n",
    "\n",
    "\n",
    "adata_nk.obs['conf_non_ambiguous'] = pd.Categorical((adata_nk.obs['conf'] > 0.95) | (adata_nk.obs['var'] < 0.15))\n",
    "\n",
    "corr_classified_list =[]\n",
    "for i in range(adata_nk.n_obs):\n",
    "    if adata_nk.obs['conf_non_ambiguous'][i]==True:\n",
    "        corr_classified_list.append('Correct annotation')\n",
    "    else: \n",
    "        corr_classified_list.append('Ambiguous annotation')\n",
    "adata_nk.obs['amb_annotation']=corr_classified_list\n",
    "\n",
    "\n",
    "adata_nk_sacled = adata_nk.copy()\n",
    "#adata_nk.obs['conf_ambiguous'] = pd.Categorical(adata_nk.obs['conf'] > 0.95)\n",
    "ax = sc.pl.matrixplot(adata_nk, cd56_genes_dict, groupby='amb_annotation',cmap='BuGn', gene_symbols='alt_names')\n",
    "\n"
   ]
  },
  {
   "cell_type": "code",
   "execution_count": null,
   "metadata": {},
   "outputs": [],
   "source": []
  },
  {
   "cell_type": "code",
   "execution_count": null,
   "metadata": {},
   "outputs": [],
   "source": [
    "adata_nk.obs['conf_non_ambiguous'].value_counts()"
   ]
  },
  {
   "cell_type": "code",
   "execution_count": null,
   "metadata": {},
   "outputs": [],
   "source": []
  },
  {
   "cell_type": "code",
   "execution_count": null,
   "metadata": {},
   "outputs": [],
   "source": [
    "bdata= adata[adata.obs['conf_binaries'].isin([True])]\n",
    "adata_nk= bdata[bdata.obs['str_labels'].isin(['NK cells'])]\n",
    "adata_cd4= bdata[bdata.obs['str_labels'].isin(['CD4 T cells'])]\n",
    "adata_cd8= bdata[bdata.obs['str_labels'].isin(['CD8 T cells'])]\n",
    "adata_nk.obs['conf_non_ambiguous'] = pd.Categorical((adata_nk.obs['conf'] > 0.95) | (adata_nk.obs['var'] < 0.15))\n",
    "adata_nk_cells_non_ambiguous= adata_nk[adata_nk.obs['conf_non_ambiguous'].isin([True])]\n",
    "adata_nk_cells_ambiguou= adata_nk[adata_nk.obs['conf_non_ambiguous'].isin([False])]\n"
   ]
  },
  {
   "cell_type": "code",
   "execution_count": null,
   "metadata": {},
   "outputs": [],
   "source": [
    "mean_non_ambiguous = np.mean(adata_nk_cells_non_ambiguous.X , axis=0)\n",
    "mean_ambiguous = np.mean(adata_nk_cells_ambiguou.X , axis=0)\n",
    "mean_cd8 = np.mean(adata_cd8.X , axis=0)\n",
    "mean_cd4 = np.mean(adata_cd4.X , axis=0)\n",
    "\n",
    "print(np.linalg.norm(mean_non_ambiguous-mean_ambiguous))\n",
    "print(np.linalg.norm(mean_non_ambiguous-mean_cd8))\n",
    "print(np.linalg.norm(mean_non_ambiguous-mean_cd4))\n",
    "print(np.linalg.norm(mean_cd8-mean_ambiguous))\n",
    "print(np.linalg.norm(mean_cd4-mean_ambiguous))\n"
   ]
  },
  {
   "cell_type": "code",
   "execution_count": null,
   "metadata": {},
   "outputs": [],
   "source": [
    "A = np.zeros((4,4))\n",
    "#mean_non_ambiguous -0\n",
    "#mean_ambiguous -1\n",
    "#mean_cd8 -2\n",
    "#mean_cd4 -3\n",
    "\n",
    "A[0,1]= np.linalg.norm(mean_non_ambiguous-mean_ambiguous)\n",
    "A[0,2]= np.linalg.norm(mean_non_ambiguous-mean_cd8)\n",
    "A[0,3]= np.linalg.norm(mean_non_ambiguous-mean_cd4)\n",
    "A[1,0]= A[0,1]\n",
    "A[1,2]= np.linalg.norm(mean_ambiguous-mean_cd8)\n",
    "A[1,3]= np.linalg.norm(mean_ambiguous-mean_cd4)\n",
    "A[2,0]= A[0,2]\n",
    "A[2,1]= A[1,2]\n",
    "A[2,3]= np.linalg.norm(mean_cd8-mean_cd4)\n",
    "A[3,0]= A[0,3]\n",
    "A[3,1]= A[1,3]\n",
    "A[3,2]= A[2,3]\n"
   ]
  },
  {
   "cell_type": "code",
   "execution_count": null,
   "metadata": {},
   "outputs": [],
   "source": [
    "import seaborn as sns\n",
    "g = sns.heatmap(A, annot=True,cmap='BuGn')\n",
    "g.set_xticklabels(['NK CA','NK  AA','CD8','CD4'])\n",
    "g.set_yticklabels(['NK CA','NK  AA','CD8','CD4'])\n",
    "g.set_title('Distance matrix')\n",
    "plt.show()"
   ]
  },
  {
   "cell_type": "code",
   "execution_count": null,
   "metadata": {},
   "outputs": [],
   "source": [
    "celltype_list= [\"CD14+ Monocytes\", \"FCGR3A+ Monocytes\"]#,'Dendritic Cells']\n",
    "adata_monocytes= adata[adata.obs['conf_binaries'].isin([True])]\n",
    "adata_monocytes= adata_monocytes[adata_monocytes.obs['str_labels'].isin(celltype_list)]\n",
    "adata_monocytes_scaled= adata_scaled[adata.obs['conf_binaries'].isin([True])]\n",
    "adata_monocytes_scaled= adata_monocytes_scaled[adata_monocytes_scaled.obs['str_labels'].isin(celltype_list)]\n",
    "adata_monocytes_scaled.obs['conf_ambiguous'] = pd.Categorical((adata_monocytes_scaled.obs['conf'] > 0.95) &\n",
    "                                                     (adata_monocytes_scaled.obs['var'] < 0.15))\n"
   ]
  },
  {
   "cell_type": "code",
   "execution_count": null,
   "metadata": {},
   "outputs": [],
   "source": [
    "\n",
    "adata_scaled.obs['conf']=adata.obs['conf']\n",
    "adata_scaled.obs['var']=adata.obs['var']\n",
    "\n",
    "adata_cd14_scaled= adata_scaled[adata.obs['conf_binaries'].isin([True])]\n",
    "adata_cd14_scaled= adata_cd14_scaled[adata_cd14_scaled.obs['str_labels'].isin([\"CD14+ Monocytes\"])]\n",
    "adata_cd14_scaled.obs['conf_ambiguous'] = pd.Categorical((adata_cd14_scaled.obs['conf'] > 0.95) &\n",
    "                                                     (adata_cd14_scaled.obs['var'] < 0.15))\n",
    "\n",
    "adata_fc_scaled= adata_scaled[adata.obs['conf_binaries'].isin([True])]\n",
    "adata_fc_scaled= adata_fc_scaled[adata_fc_scaled.obs['str_labels'].isin([\"FCGR3A+ Monocytes\"])]\n",
    "adata_fc_scaled.obs['conf_ambiguous'] = pd.Categorical((adata_fc_scaled.obs['conf'] > 0.95) &\n",
    "                                                     (adata_fc_scaled.obs['var'] < 0.15))\n"
   ]
  },
  {
   "cell_type": "code",
   "execution_count": null,
   "metadata": {},
   "outputs": [],
   "source": [
    "adata_cd14_scaled.obs['conf_non_ambiguous'] = pd.Categorical((adata_cd14_scaled.obs['conf'] > 0.95) | (adata_cd14_scaled.obs['var'] < 0.15))\n",
    "adata_fc_scaled.obs['conf_non_ambiguous'] = pd.Categorical((adata_fc_scaled.obs['conf'] > 0.95) | (adata_fc_scaled.obs['var'] < 0.15))\n",
    "adata_cd14= adata[adata.obs['str_labels'].isin([\"CD14+ Monocytes\"])]\n",
    "adata_fc= adata[adata.obs['str_labels'].isin([\"FCGR3A+ Monocytes\"])]\n",
    "\n",
    "annotation_list_cd14=[]\n",
    "for i in range( adata_cd14.n_obs):\n",
    "    if adata_cd14.obs['conf_non_ambiguous'][i]==True:\n",
    "        annotation_list_cd14.append('Correctly classified (annotated as CD14+)')\n",
    "    else:\n",
    "        annotation_list_cd14.append('Intermediate state (annotated as CD14+)')\n",
    "annotation_list_fc=[]\n",
    "for i in range( adata_fc.n_obs):\n",
    "    if adata_fc.obs['conf_non_ambiguous'][i]==True:\n",
    "        annotation_list_fc.append('Correctly classified (annotated as FCGR3A+)')\n",
    "    else:\n",
    "        annotation_list_fc.append('Intermediate state (annotated as FCGR3A+)')\n",
    "adata_cd14.obs['cell_state']=annotation_list_cd14\n",
    "adata_fc.obs['cell_state']=annotation_list_fc\n",
    "adata_fc_cd14= adata_cd14.concatenate(adata_fc)\n",
    "\n",
    "sc.pp.scale(adata_fc_cd14)\n"
   ]
  },
  {
   "cell_type": "code",
   "execution_count": null,
   "metadata": {},
   "outputs": [],
   "source": [
    "\n",
    "mono_genes_dict= {\n",
    "    'Classical':['S100A12','ALOX5AP'], \n",
    "    'Intermediate':['GPR35','MARCO'], \n",
    "    'Nonclassical':['ICAM4','CD79b'], \n",
    "                   }\n",
    "\n",
    "sc.pl.matrixplot(adata_fc_cd14, mono_genes_dict, groupby='cell_state' ,cmap='RdYlBu', gene_symbols='alt_names')\n"
   ]
  },
  {
   "cell_type": "code",
   "execution_count": null,
   "metadata": {},
   "outputs": [],
   "source": [
    "sc.pl.matrixplot(adata_fc_cd14, mono_genes_dict, groupby='cell_state' ,cmap='BrBG', gene_symbols='alt_names')\n"
   ]
  },
  {
   "cell_type": "code",
   "execution_count": null,
   "metadata": {},
   "outputs": [],
   "source": [
    "import metrics\n",
    "adata_fc = metrics.rank_genes_conf(adata_fc)\n",
    "\n",
    "adata_fc.var['conf_score_high'].sort_values(ascending=False).index[:5]"
   ]
  },
  {
   "cell_type": "code",
   "execution_count": null,
   "metadata": {},
   "outputs": [],
   "source": [
    "def find_conf_rank(df, gene):\n",
    "    for i , j in enumerate(df.index):\n",
    "        if j==gene:\n",
    "            return i\n",
    "find_conf_rank(adata_fc.var['conf_score_low'].sort_values(ascending=False),'ENSG00000103187')"
   ]
  },
  {
   "cell_type": "code",
   "execution_count": null,
   "metadata": {},
   "outputs": [],
   "source": [
    "#adata.var['alt_names'].loc['ENSG00000163221'] = 'S100A12'\n",
    "#adata.var['alt_names'].loc['ENSG00000132965']='ALOX5AP'\n",
    "#adata.var['alt_names'].loc['ENSG00000178623']='GPR35'\n",
    "#adata.var['alt_names'].loc['ENSG00000019169']='MARCO'\n",
    "#adata.var['alt_names'].loc['ENSG00000105371']='ICAM4'\n",
    "#adata.var['alt_names'].loc['ENSG00000007312']='CD79b'\n",
    "mono_genes_list = ['ENSG00000163221','ENSG00000132965','ENSG00000178623','ENSG00000019169','ENSG00000105371','ENSG00000007312']\n",
    "df= adata_fc.var['conf_score_low'].sort_values(ascending=False)\n",
    "for gene in mono_genes_list:\n",
    "    print(gene)\n",
    "    print(gene_mapping[gene])\n",
    "\n",
    "    print(find_conf_rank(df,gene))\n",
    "    print(\"***\")\n",
    "    \n",
    "print(\"high\")\n",
    "print()\n",
    "df= adata_fc.var['conf_score_high'].sort_values(ascending=False)\n",
    "for gene in mono_genes_list:\n",
    "    print(gene)\n",
    "    print(gene_mapping[gene])\n",
    "    print(find_conf_rank(df,gene))\n",
    "    print(\"***\")\n"
   ]
  },
  {
   "cell_type": "code",
   "execution_count": null,
   "metadata": {},
   "outputs": [],
   "source": [
    "adata_cd14 = metrics.rank_genes_conf(adata_cd14)\n",
    "\n",
    "df= adata_cd14.var['conf_score_low'].sort_values(ascending=False)\n",
    "for gene in mono_genes_list:\n",
    "    print(gene)\n",
    "    print(gene_mapping[gene])\n",
    "    print(find_conf_rank(df,gene))\n",
    "    print(\"***\")\n",
    "    \n",
    "print(\"high\")\n",
    "print()\n",
    "df= adata_cd14.var['conf_score_high'].sort_values(ascending=False)\n",
    "for gene in mono_genes_list:\n",
    "    print(gene)\n",
    "    print(gene_mapping[gene])\n",
    "    print(find_conf_rank(df,gene))\n",
    "    print(\"***\")\n"
   ]
  },
  {
   "cell_type": "code",
   "execution_count": null,
   "metadata": {
    "scrolled": false
   },
   "outputs": [],
   "source": [
    "cd56_genes_dict= {\n",
    "    'CD56 bright':['IL7R','CCR7','CD2','SELL','IFNG'], \n",
    "    'CD56 dim':['CX3CR1','ITGB2','KIR2DL1','KIR2DL3','KLRG1','PRF1','GZMA','GZMB'],     \n",
    "\n",
    "                   }\n",
    "nk_genes_list = ['ENSG00000168685','ENSG00000126353','ENSG00000116824','ENSG00000188404','ENSG00000111537',\n",
    "                'ENSG00000168329','ENSG00000160255','ENSG00000125498','ENSG00000243772','ENSG00000139187','ENSG00000180644'\n",
    "                ,'ENSG00000145649','ENSG00000100453']\n",
    "#adata.var['alt_names'].loc['ENSG00000168685'] = 'IL7R'\n",
    "#adata.var['alt_names'].loc['ENSG00000126353']='CCR7'\n",
    "#adata.var['alt_names'].loc['ENSG00000116824'] = 'CD2'\n",
    "#adata.var['alt_names'].loc['ENSG00000188404']='SELL'\n",
    "#adata.var['alt_names'].loc['ENSG00000111537']='IFNG'\n",
    "#adata.var['alt_names'].loc['ENSG00000168329']='CX3CR1'\n",
    "#adata.var['alt_names'].loc['ENSG00000160255']='ITGB2'\n",
    "#adata.var['alt_names'].loc['ENSG00000125498']='KIR2DL1'\n",
    "#adata.var['alt_names'].loc['ENSG00000243772']='KIR2DL3'\n",
    "#adata.var['alt_names'].loc['ENSG00000139187']='KLRG1'\n",
    "#adata.var['alt_names'].loc['ENSG00000180644']='PRF1'\n",
    "#adata.var['alt_names'].loc['ENSG00000145649']='GZMA'\n",
    "#adata.var['alt_names'].loc['ENSG00000100453']='GZMB'\n",
    "adata_nk = metrics.rank_genes_conf(adata_nk)\n",
    "\n",
    "df= adata_nk.var['conf_score_low'].sort_values(ascending=False)\n",
    "for gene in nk_genes_list:\n",
    "    print(gene)\n",
    "    print(gene_mapping[gene])\n",
    "    print(find_conf_rank(df,gene))\n",
    "    print(\"***\")\n",
    "    \n",
    "print(\"high\")\n",
    "print()\n",
    "df= adata_nk.var['conf_score_high'].sort_values(ascending=False)\n",
    "for gene in nk_genes_list:\n",
    "    print(gene)\n",
    "    print(gene_mapping[gene])\n",
    "    print(find_conf_rank(df,gene))\n",
    "    print(\"***\")\n",
    "\n"
   ]
  },
  {
   "cell_type": "code",
   "execution_count": null,
   "metadata": {},
   "outputs": [],
   "source": []
  },
  {
   "cell_type": "code",
   "execution_count": null,
   "metadata": {},
   "outputs": [],
   "source": [
    "adata_nk.var['conf_score_low'].sort_values(ascending=False)[:5].index"
   ]
  },
  {
   "cell_type": "code",
   "execution_count": null,
   "metadata": {},
   "outputs": [],
   "source": [
    "intermediate_state_mapping = {\n",
    "    'B cells': 'B cells',\n",
    "    'CD4 T cells': 'CD4 T cells',\n",
    "    'CD8 T cells': 'NK cells',\n",
    "    'FCGR3A+ Monocytes': 'CD14+ Monocytes',\n",
    "    'CD14+ Monocytes': 'FCGR3A+ Monocytes',\n",
    "    'Dendritic Cells': 'Dendritic Cells',\n",
    "    'NK cells': 'CD8 T cells'\n",
    "}\n",
    "\n",
    "# Create an empty list to store the updated cell types\n",
    "cell_type_list = []\n",
    "for i in range(adata.n_obs):\n",
    "    cluster_name = adata.obs['str_labels'][i]\n",
    "    if cluster_name in intermediate_state_mapping:\n",
    "        cell_type_list.append(intermediate_state_mapping[cluster_name])\n",
    "    else:\n",
    "        cell_type_list.append(cluster_name)\n",
    "\n",
    "# Update the cell type column in the AnnData object\n",
    "adata.obs['str_labels_2'] = np.array(cell_type_list)\n",
    "epoch_num=100\n",
    "prob_list_1, prob_list_2 = models.follow_train_dyn_two_lables(adata, label_one='str_labels', label_two= 'str_labels_2', iterNum=epoch_num, device=device)"
   ]
  },
  {
   "cell_type": "code",
   "execution_count": null,
   "metadata": {},
   "outputs": [],
   "source": [
    "for i in range(100):\n",
    "    adata.obs['prob1_' +str(i)] = prob_list_1[i]\n",
    "    adata.obs['prob2_' +str(i)] = prob_list_2[i]\n"
   ]
  },
  {
   "cell_type": "code",
   "execution_count": null,
   "metadata": {},
   "outputs": [],
   "source": [
    "adata_cd14= adata[adata.obs['conf_binaries'].isin([True])]\n",
    "adata_cd14.obs['conf_non_ambiguous'] = pd.Categorical((adata_cd14.obs['conf'] > 0.95) | (adata_cd14.obs['var'] < 0.15))\n",
    "\n",
    "adata_cd14= adata_cd14[adata_cd14.obs['str_labels'].isin(['CD14+ Monocytes'])]\n",
    "adata_cd14_miss= adata[adata.obs['conf_binaries'].isin([False])]\n",
    "adata_cd14_miss= adata_cd14_miss[adata_cd14_miss.obs['str_labels'].isin(['CD14+ Monocytes'])]\n",
    "adata_cd14_inter= adata_cd14[adata_cd14.obs['conf_non_ambiguous'].isin([False])]\n",
    "adata_cd14_cd14= adata_cd14[adata_cd14.obs['conf_non_ambiguous'].isin([True])]\n"
   ]
  },
  {
   "cell_type": "code",
   "execution_count": null,
   "metadata": {},
   "outputs": [],
   "source": [
    "\n",
    "prob_cd14_cd14 = []\n",
    "std_cd14_cd14 = []\n",
    "prob_cd14_miss = []\n",
    "std_cd14_miss = []\n",
    "prob_inter_cd14 = []\n",
    "std_inter_cd14 = []\n",
    "prob_inter_fc = []\n",
    "std_inter_fc = []\n",
    "\n",
    "for i in range(100):\n",
    "    prob_cd14_cd14.append(np.mean(adata_cd14_cd14.obs['prob1_' +str(i)]))\n",
    "    prob_cd14_miss.append(np.mean(adata_cd14_miss.obs['prob1_' +str(i)]))\n",
    "    prob_inter_cd14.append(np.mean(adata_cd14_inter.obs['prob1_' +str(i)]))\n",
    "    prob_inter_fc.append(np.mean(adata_cd14_inter.obs['prob2_' +str(i)]))\n",
    "    std_cd14_cd14.append(np.std(adata_cd14_cd14.obs['prob1_' +str(i)]))\n",
    "    std_cd14_miss.append(np.std(adata_cd14_miss.obs['prob1_' +str(i)]))\n",
    "    std_inter_cd14.append(np.std(adata_cd14_inter.obs['prob1_' +str(i)]))\n",
    "    std_inter_fc.append(np.std(adata_cd14_inter.obs['prob2_' +str(i)]))\n",
    "\n"
   ]
  },
  {
   "cell_type": "code",
   "execution_count": null,
   "metadata": {},
   "outputs": [],
   "source": []
  },
  {
   "cell_type": "code",
   "execution_count": null,
   "metadata": {},
   "outputs": [],
   "source": [
    "std_cd14_cd14 = np.array(std_cd14_cd14)\n",
    "prob_cd14_cd14  = np.array(prob_cd14_cd14)\n",
    "prob_inter_cd14 = np.array(prob_inter_cd14)\n",
    "std_inter_cd14 = np.array(std_inter_cd14)\n",
    "prob_inter_fc = np.array(prob_inter_fc)\n",
    "std_inter_fc = np.array(std_inter_fc)\n",
    "prob_cd14_miss = np.array(prob_cd14_miss)\n",
    "std_cd14_miss = np.array(std_cd14_miss)\n",
    "\n",
    "plt.plot(range(100),prob_cd14_cd14[:100],label='Correctly classified to be CD14+', color='b')\n",
    "plt.fill_between(range(100), prob_cd14_cd14-std_cd14_cd14, prob_cd14_cd14+std_cd14_cd14, interpolate=True, alpha=0.2)\n",
    "plt.plot(range(100),prob_inter_cd14[:100], label='Intermediate to be CD14+', color='orange')\n",
    "plt.fill_between(range(100), prob_inter_cd14-std_inter_cd14, prob_inter_cd14+std_inter_cd14, interpolate=True,  alpha=0.2)\n",
    "plt.plot(range(100),prob_inter_fc[:100], label='Intermediate to be FCGR3A+', color='g')\n",
    "plt.fill_between(range(100), prob_inter_fc-std_inter_fc, prob_inter_fc+std_inter_fc, interpolate=True,  alpha=0.2)\n",
    "plt.plot(range(100),prob_cd14_miss[:100], label='IC to be CD14+', color='r')\n",
    "plt.fill_between(range(100), prob_cd14_miss-std_cd14_miss, prob_cd14_miss+std_cd14_miss, interpolate=True,  alpha=0.2)\n",
    "plt.xlabel('Epoch')\n",
    "plt.ylabel('Probability')\n",
    "plt.legend()\n",
    "plt.show()\n",
    "\n"
   ]
  },
  {
   "cell_type": "code",
   "execution_count": null,
   "metadata": {},
   "outputs": [],
   "source": [
    "plt.plot(range(100),prob_cd14_cd14[:100],label='correct', color='b')\n",
    "plt.fill_between(range(100), prob_cd14_cd14-std_cd14_cd14, prob_cd14_cd14+std_cd14_cd14, interpolate=True, alpha=0.2)\n",
    "plt.plot(range(100),prob_inter_cd14[:100], label='ambiguous', color='orange')\n",
    "plt.fill_between(range(100), prob_inter_cd14-std_inter_cd14, prob_inter_cd14+std_inter_cd14, interpolate=True,  alpha=0.2)\n",
    "plt.plot(range(100),prob_inter_fc[:100], label='ambiguous*', color='g')\n",
    "plt.fill_between(range(100), prob_inter_fc-std_inter_fc, prob_inter_fc+std_inter_fc, interpolate=True,  alpha=0.2)\n",
    "plt.plot(range(100),prob_cd14_miss[:100], label='erroneous', color='r')\n",
    "plt.fill_between(range(100), prob_cd14_miss-std_cd14_miss, prob_cd14_miss+std_cd14_miss, interpolate=True,  alpha=0.2)\n",
    "plt.xlabel('Epoch')\n",
    "plt.title('Mean probability to be CD14+, in ambiguous* to be FCGR3A+')\n",
    "plt.ylabel('Mean probability')\n",
    "#plt.ylabel(' mean probability to be classical (CD14+), except in ambiguous*, it is the probability to be non-classical (FCGR3A+)')\n",
    "plt.legend()\n",
    "plt.show()\n",
    "\n"
   ]
  },
  {
   "cell_type": "code",
   "execution_count": null,
   "metadata": {},
   "outputs": [],
   "source": []
  }
 ],
 "metadata": {
  "colab": {
   "provenance": []
  },
  "kernelspec": {
   "display_name": "Python 3 (ipykernel)",
   "language": "python",
   "name": "python3"
  },
  "language_info": {
   "codemirror_mode": {
    "name": "ipython",
    "version": 3
   },
   "file_extension": ".py",
   "mimetype": "text/x-python",
   "name": "python",
   "nbconvert_exporter": "python",
   "pygments_lexer": "ipython3",
   "version": "3.9.9"
  }
 },
 "nbformat": 4,
 "nbformat_minor": 1
}
